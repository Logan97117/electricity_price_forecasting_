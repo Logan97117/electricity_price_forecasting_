{
 "cells": [
  {
   "cell_type": "markdown",
   "metadata": {
    "_uuid": "95b8c9594e092d03d87dad9787a0b03a34ebb451"
   },
   "source": [
    "****ARIMA forecasts for electricity prices dataset of queensland for the year 2018."
   ]
  },
  {
   "cell_type": "code",
   "execution_count": null,
   "metadata": {
    "_cell_guid": "b1076dfc-b9ad-4769-8c92-a6c4dae69d19",
    "_uuid": "8f2839f25d086af736a60e9eeb907d3b93b6e0e5",
    "collapsed": true
   },
   "outputs": [],
   "source": [
    "#import libraries\n",
    "import numpy as np \n",
    "import pandas as pd \n",
    "import matplotlib.pyplot as plt\n",
    "import itertools\n",
    "from statsmodels.tsa.statespace.sarimax import SARIMAX\n",
    "import utils\n",
    "import os\n",
    "from datetime import datetime, timedelta"
   ]
  },
  {
   "cell_type": "markdown",
   "metadata": {
    "_cell_guid": "79c7e3d0-c299-4dcb-8224-4455121ee9b0",
    "_uuid": "d629ff2d2480ee46fbb7e2d37f6b5fab8052498a",
    "collapsed": true
   },
   "source": [
    "We will write two other scripts, one for parameter tuning and other for fetching data from AEMO website so that we dont have to deal with too many csv files, in this script we will use statistics and theory to determine the order of ARIMA model."
   ]
  },
  {
   "cell_type": "code",
   "execution_count": null,
   "metadata": {
    "_uuid": "f935697b423c1b2d043b3c5de0c951d2613412a9",
    "collapsed": false
   },
   "outputs": [],
   "source": [
    "#dataset\n",
    "prices = pd.read_csv('C:\\\\Users\\\\dell i\\\\Desktop\\\\Academics\\\\MTech Project\\\\price forecasting\\\\data\\\\prices_dataset.csv')\n",
    "prices['SETTLEMENTDATE'] = pd.to_datetime(prices['SETTLEMENTDATE'])\n",
    "prices = prices.set_index(['SETTLEMENTDATE'])"
   ]
  },
  {
   "cell_type": "code",
   "execution_count": null,
   "metadata": {
    "_uuid": "86455be469368d65e99930c35fc9c8d404f5d9c7",
    "collapsed": false,
    "scrolled": true
   },
   "outputs": [],
   "source": [
    "prices.describe()"
   ]
  },
  {
   "cell_type": "code",
   "execution_count": null,
   "metadata": {
    "_uuid": "a6abe790cd88872d737b7752f5201954e2c1b571",
    "collapsed": false
   },
   "outputs": [],
   "source": [
    "prices.head(10)"
   ]
  },
  {
   "cell_type": "markdown",
   "metadata": {
    "_uuid": "96970bf7bc00de9e4b659a3d83c252c798b28801"
   },
   "source": [
    "We will try seasonal differencing of data and see the rolling statistics and the distribution of data.\n"
   ]
  },
  {
   "cell_type": "code",
   "execution_count": null,
   "metadata": {
    "_uuid": "5968dc53a57f2018e7a1919f8d3105619f8a3916",
    "collapsed": false,
    "scrolled": false
   },
   "outputs": [],
   "source": [
    "#seasonal differencing by 24 hours, 48 observations and plotting it\n",
    "start_date = datetime(2018,10,5,0,30,0)\n",
    "period = 10  # observing prices for a period of 10 days\n",
    "end_date = start_date + timedelta(days = period)\n",
    "diff_price_series = prices.diff(periods = 48)\n",
    "diff_price_series.dropna()[start_date:end_date].plot(figsize = (22,10))\n",
    "plt.legend()\n",
    "plt.show()\n"
   ]
  },
  {
   "cell_type": "code",
   "execution_count": null,
   "metadata": {
    "collapsed": false
   },
   "outputs": [],
   "source": [
    "#Plotting the rolling statistics of the differenced series, \n",
    "utils.plot_rolling_stats(diff_price_series.dropna()[start_date:end_date])"
   ]
  },
  {
   "cell_type": "code",
   "execution_count": null,
   "metadata": {
    "collapsed": false
   },
   "outputs": [],
   "source": [
    "#ACF and PACF plots of differenced searies\n",
    "utils.plot_acf_pacf(diff_price_series,n_lags = 120)"
   ]
  },
  {
   "cell_type": "markdown",
   "metadata": {},
   "source": [
    "Lets make an SARIMA model as follows and restrict our parameter grid for grid search within this range only\n",
    "p- number of auto regressivc terms, 8 as the PACF lags are not significant\n",
    "d - non seasonal differences, 0 as no non seasonal difference is there\n",
    "q - number of moving average terms, 8 as the ACF lags are not significant after that\n",
    "P - number of seasonal auto regressive terms, 1 from the PACF plot(after 48th lag, there are not significant lags)\n",
    "D- seasonal differences, 1\n",
    "Q - number of seasonal moving average terms, 1 from the ACF plot\n",
    "S- 48\n",
    "therefore\n",
    "(p,d,q) = (8,0,8) or (8,1,8) \n",
    "(P,D,Q,S) = (1,1,1,48)\n"
   ]
  },
  {
   "cell_type": "code",
   "execution_count": null,
   "metadata": {
    "collapsed": false
   },
   "outputs": [],
   "source": [
    "#fitting the model\n",
    "model=SARIMAX(prices, order=(8, 0, 8), seasonal_order=(1, 1,1, 48)).fit(disp=-1)"
   ]
  }
 ],
 "metadata": {
  "anaconda-cloud": {},
  "kernelspec": {
   "display_name": "Python [conda env:Anaconda3]",
   "language": "python",
   "name": "conda-env-Anaconda3-py"
  },
  "language_info": {
   "codemirror_mode": {
    "name": "ipython",
    "version": 3
   },
   "file_extension": ".py",
   "mimetype": "text/x-python",
   "name": "python",
   "nbconvert_exporter": "python",
   "pygments_lexer": "ipython3",
   "version": "3.5.2"
  }
 },
 "nbformat": 4,
 "nbformat_minor": 1
}
